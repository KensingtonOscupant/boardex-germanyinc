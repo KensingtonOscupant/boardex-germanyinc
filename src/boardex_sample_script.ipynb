{
 "cells": [
  {
   "cell_type": "code",
   "execution_count": null,
   "metadata": {},
   "outputs": [],
   "source": [
    "import wrds\n",
    "db = wrds.Connection()\n",
    "\n",
    "query = \"SELECT * FROM boardex_eur.eur_wrds_org_composition LIMIT 10\"\n",
    "data = db.raw_sql(query)"
   ]
  },
  {
   "cell_type": "code",
   "execution_count": null,
   "metadata": {},
   "outputs": [],
   "source": [
    "# Retrieve all unique values for \"seniority\"\n",
    "query = \"SELECT DISTINCT seniority FROM boardex_eur.eur_wrds_org_composition\"\n",
    "data = db.raw_sql(query)\n",
    "unique_seniorities = data['seniority'].unique()\n",
    "print(unique_seniorities)"
   ]
  },
  {
   "cell_type": "code",
   "execution_count": null,
   "metadata": {},
   "outputs": [],
   "source": [
    "import pandas as pd\n",
    "\n",
    "# Load data (you have to place the file in the data directory)\n",
    "data = pd.read_csv('data/KEY-Identity-edited.csv')\n",
    "\n",
    "# Get unique values from issuer column\n",
    "issuers = data['names'].unique()\n",
    "\n",
    "# Convert issuers to a list\n",
    "issuers_list = issuers.tolist()\n",
    "\n",
    "# Connect to WRDS database\n",
    "db = wrds.Connection()\n",
    "\n",
    "# Retrieve records from boardex_eur.eur_wrds_org_composition where companyname appears in issuers_list\n",
    "query = f\"SELECT * FROM boardex_eur.eur_wrds_org_composition WHERE companyname IN {tuple(issuers_list)}\"\n",
    "data = db.raw_sql(query)\n"
   ]
  },
  {
   "cell_type": "code",
   "execution_count": null,
   "metadata": {},
   "outputs": [],
   "source": [
    "# group by unique director names\n",
    "grouped_data = data.groupby(\"directorname\")\n",
    "directors_multiple = grouped_data[\"directorid\"].nunique()\n",
    "\n",
    "# get names of directors with multiple directorids\n",
    "grouped_data = data.groupby(\"directorname\")\n",
    "directors_multiple = grouped_data[\"directorid\"].nunique()\n",
    "multiple_director_names = directors_multiple[directors_multiple > 1].index.tolist()\n",
    "\n",
    "# output data for directors with multiple directorids\n",
    "result = data[data[\"directorname\"].isin(multiple_director_names)].copy()\n",
    "result\n"
   ]
  }
 ],
 "metadata": {
  "language_info": {
   "name": "python"
  },
  "orig_nbformat": 4
 },
 "nbformat": 4,
 "nbformat_minor": 2
}
