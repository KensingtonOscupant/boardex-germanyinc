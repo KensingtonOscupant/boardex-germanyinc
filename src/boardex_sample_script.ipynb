{
 "cells": [
  {
   "cell_type": "code",
   "execution_count": null,
   "metadata": {},
   "outputs": [],
   "source": [
    "import wrds\n",
    "db = wrds.Connection()\n",
    "\n",
    "query = \"SELECT * FROM boardex_eur.eur_wrds_org_composition LIMIT 10\"\n",
    "data = db.raw_sql(query)\n",
    "print(data.head(10))\n"
   ]
  },
  {
   "cell_type": "code",
   "execution_count": null,
   "metadata": {},
   "outputs": [],
   "source": [
    "# Retrieve all unique values for \"seniority\"\n",
    "query = \"SELECT DISTINCT seniority FROM boardex_eur.eur_wrds_org_composition\"\n",
    "data = db.raw_sql(query)\n",
    "unique_seniorities = data['seniority'].unique()\n",
    "print(unique_seniorities)"
   ]
  },
  {
   "cell_type": "code",
   "execution_count": null,
   "metadata": {},
   "outputs": [],
   "source": [
    "import pandas as pd\n",
    "\n",
    "# Load data from mydata_250.csv file\n",
    "data = pd.read_csv('unique_issuers.csv')\n",
    "\n",
    "# Get unique values from issuer column\n",
    "issuers = data['issuer'].unique()\n",
    "\n",
    "# Connect to WRDS database\n",
    "db = wrds.Connection()\n",
    "\n",
    "# Retrieve records from boardex_eur.eur_wrds_org_composition where companyname appears in issuers\n",
    "query = f\"SELECT * FROM boardex_eur.eur_wrds_org_composition WHERE companyname IN {tuple(issuers)}\"\n",
    "data = db.raw_sql(query)\n"
   ]
  },
  {
   "cell_type": "code",
   "execution_count": null,
   "metadata": {},
   "outputs": [],
   "source": [
    "grouped_data = data.groupby(\"directorname\")\n",
    "directors_multiple = grouped_data[\"directorid\"].nunique()"
   ]
  },
  {
   "cell_type": "code",
   "execution_count": null,
   "metadata": {},
   "outputs": [],
   "source": [
    "directors_multiple.loc[directors_multiple > 1]\n",
    "# data.loc[data.directorname.isin(directors_multiple.index)]\n"
   ]
  },
  {
   "cell_type": "code",
   "execution_count": null,
   "metadata": {},
   "outputs": [],
   "source": [
    "# Query boardex_eur.eur_wrds_org_composition to get all directorids for Thomas Müller\n",
    "query = \"SELECT * FROM boardex_eur.eur_wrds_org_composition WHERE directorname = 'Thomas Kaminski'\"\n",
    "data2 = db.raw_sql(query)\n",
    "\n",
    "# Print the resulting dataframe\n",
    "print(data2)"
   ]
  }
 ],
 "metadata": {
  "language_info": {
   "name": "python"
  },
  "orig_nbformat": 4
 },
 "nbformat": 4,
 "nbformat_minor": 2
}
