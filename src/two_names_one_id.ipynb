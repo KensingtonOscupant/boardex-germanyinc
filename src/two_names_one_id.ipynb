{
 "cells": [
  {
   "cell_type": "markdown",
   "id": "94f2d185-baa2-4fc5-99e9-19fede26ffac",
   "metadata": {},
   "source": [
    "Two Names, one ID"
   ]
  },
  {
   "cell_type": "code",
   "execution_count": 1,
   "id": "fddb1d63-36fa-4131-a213-55bc17b8dd76",
   "metadata": {},
   "outputs": [
    {
     "name": "stdout",
     "output_type": "stream",
     "text": [
      "Loading library list...\n",
      "Done\n"
     ]
    }
   ],
   "source": [
    "import wrds\n",
    "import pandas as pd\n",
    "db = wrds.Connection()"
   ]
  },
  {
   "cell_type": "code",
   "execution_count": 2,
   "id": "dda80784-c161-46dd-96df-7521ecb12a1e",
   "metadata": {},
   "outputs": [],
   "source": [
    "# Load data\n",
    "data = pd.read_csv('data/KEY-Identity-edited.csv')\n",
    "\n",
    "# Get unique values from issuer column\n",
    "issuers = data['names'].unique()\n",
    "\n",
    "# Convert issuers to a list\n",
    "issuers_list = issuers.tolist()\n",
    "\n",
    "# Retrieve records from boardex_eur.eur_wrds_org_composition where companyname appears in issuers_list\n",
    "general_query = f\"SELECT * FROM boardex_eur.eur_wrds_org_composition\"\n",
    "germanyinc_query = f\"SELECT * FROM boardex_eur.eur_wrds_org_composition WHERE companyname IN {tuple(issuers_list)}\"\n",
    "\n",
    "all_data = db.raw_sql(general_query)\n",
    "germanyinc_data = db.raw_sql(germanyinc_query)"
   ]
  },
  {
   "cell_type": "code",
   "execution_count": 3,
   "id": "d8ab1d13-a53f-4594-994e-1c5d8d947615",
   "metadata": {},
   "outputs": [
    {
     "data": {
      "text/html": [
       "<div>\n",
       "<style scoped>\n",
       "    .dataframe tbody tr th:only-of-type {\n",
       "        vertical-align: middle;\n",
       "    }\n",
       "\n",
       "    .dataframe tbody tr th {\n",
       "        vertical-align: top;\n",
       "    }\n",
       "\n",
       "    .dataframe thead th {\n",
       "        text-align: right;\n",
       "    }\n",
       "</style>\n",
       "<table border=\"1\" class=\"dataframe\">\n",
       "  <thead>\n",
       "    <tr style=\"text-align: right;\">\n",
       "      <th></th>\n",
       "      <th>id</th>\n",
       "      <th>_intid</th>\n",
       "      <th>symbol</th>\n",
       "      <th>names</th>\n",
       "    </tr>\n",
       "  </thead>\n",
       "  <tbody>\n",
       "    <tr>\n",
       "      <th>0</th>\n",
       "      <td>1</td>\n",
       "      <td>2</td>\n",
       "      <td>NaN</td>\n",
       "      <td>UNRESOLVED CASES</td>\n",
       "    </tr>\n",
       "    <tr>\n",
       "      <th>1</th>\n",
       "      <td>2</td>\n",
       "      <td>23</td>\n",
       "      <td>1STRED</td>\n",
       "      <td>1st RED AG</td>\n",
       "    </tr>\n",
       "    <tr>\n",
       "      <th>2</th>\n",
       "      <td>3</td>\n",
       "      <td>25</td>\n",
       "      <td>AAQ1</td>\n",
       "      <td>aap AG</td>\n",
       "    </tr>\n",
       "    <tr>\n",
       "      <th>3</th>\n",
       "      <td>4</td>\n",
       "      <td>27</td>\n",
       "      <td>A4Y</td>\n",
       "      <td>ESTAVIS AG</td>\n",
       "    </tr>\n",
       "    <tr>\n",
       "      <th>4</th>\n",
       "      <td>5</td>\n",
       "      <td>28</td>\n",
       "      <td>AGV</td>\n",
       "      <td>AGIV Real Estate AG</td>\n",
       "    </tr>\n",
       "    <tr>\n",
       "      <th>...</th>\n",
       "      <td>...</td>\n",
       "      <td>...</td>\n",
       "      <td>...</td>\n",
       "      <td>...</td>\n",
       "    </tr>\n",
       "    <tr>\n",
       "      <th>1630</th>\n",
       "      <td>1631</td>\n",
       "      <td>15868</td>\n",
       "      <td>NaN</td>\n",
       "      <td>WACKER CHEMIE</td>\n",
       "    </tr>\n",
       "    <tr>\n",
       "      <th>1631</th>\n",
       "      <td>1632</td>\n",
       "      <td>15869</td>\n",
       "      <td>NaN</td>\n",
       "      <td>windeln.de SE</td>\n",
       "    </tr>\n",
       "    <tr>\n",
       "      <th>1632</th>\n",
       "      <td>1633</td>\n",
       "      <td>15870</td>\n",
       "      <td>NaN</td>\n",
       "      <td>Zalando SE</td>\n",
       "    </tr>\n",
       "    <tr>\n",
       "      <th>1633</th>\n",
       "      <td>1634</td>\n",
       "      <td>15871</td>\n",
       "      <td>NaN</td>\n",
       "      <td>ZhongDe Waste Technology AG</td>\n",
       "    </tr>\n",
       "    <tr>\n",
       "      <th>1634</th>\n",
       "      <td>1635</td>\n",
       "      <td>40428</td>\n",
       "      <td>ALBCN</td>\n",
       "      <td>Allbecon AG</td>\n",
       "    </tr>\n",
       "  </tbody>\n",
       "</table>\n",
       "<p>1635 rows × 4 columns</p>\n",
       "</div>"
      ],
      "text/plain": [
       "        id  _intid  symbol                        names\n",
       "0        1       2     NaN             UNRESOLVED CASES\n",
       "1        2      23  1STRED                   1st RED AG\n",
       "2        3      25    AAQ1                       aap AG\n",
       "3        4      27     A4Y                   ESTAVIS AG\n",
       "4        5      28     AGV          AGIV Real Estate AG\n",
       "...    ...     ...     ...                          ...\n",
       "1630  1631   15868     NaN               WACKER CHEMIE \n",
       "1631  1632   15869     NaN                windeln.de SE\n",
       "1632  1633   15870     NaN                   Zalando SE\n",
       "1633  1634   15871     NaN  ZhongDe Waste Technology AG\n",
       "1634  1635   40428   ALBCN                  Allbecon AG\n",
       "\n",
       "[1635 rows x 4 columns]"
      ]
     },
     "execution_count": 3,
     "metadata": {},
     "output_type": "execute_result"
    }
   ],
   "source": [
    "data"
   ]
  },
  {
   "cell_type": "code",
   "execution_count": 4,
   "id": "f925a4b1-b2ed-49a0-b0e3-24805c5c6afd",
   "metadata": {},
   "outputs": [],
   "source": [
    "# Group the data by directorid and count unique directornames\n",
    "director_counts = all_data.groupby('directorid')['directorname'].nunique()\n",
    "\n",
    "# Filter directorid entries where there are multiple directornames\n",
    "directors_with_name_changes = director_counts[director_counts > 1].index\n",
    "\n",
    "# Extract the relevant rows with directorid entries that have name changes\n",
    "name_change_records = all_data[all_data['directorid'].isin(directors_with_name_changes)]\n",
    "name_change_records = name_change_records.sort_values(['directorid', 'datestartrole'])"
   ]
  },
  {
   "cell_type": "code",
   "execution_count": 5,
   "id": "d673a870-91e1-496a-a9d9-f14d747474a8",
   "metadata": {},
   "outputs": [
    {
     "name": "stdout",
     "output_type": "stream",
     "text": [
      "7626\n",
      "1635\n"
     ]
    }
   ],
   "source": [
    "print(len(name_change_records))\n",
    "print(len(data))"
   ]
  },
  {
   "cell_type": "markdown",
   "id": "f14c2997-c0d5-47b2-9e7a-bc1804042d56",
   "metadata": {},
   "source": [
    "Out of ~775k board member records in the database, there are ~7k records that have an id which has multiple names associated with it. Running this on our specific data yields the following results (NOTE: This is with the data from May, I still need to get a current database snapshot):"
   ]
  },
  {
   "cell_type": "code",
   "execution_count": 6,
   "id": "bdc84d12-f017-4a54-a4b4-8d7ac30ed435",
   "metadata": {},
   "outputs": [],
   "source": [
    "# Group the data by directorid and count unique directornames\n",
    "director_counts = germanyinc_data.groupby('directorid')['directorname'].nunique()\n",
    "\n",
    "# Filter directorid entries where there are multiple directornames\n",
    "directors_with_name_changes = director_counts[director_counts > 1].index\n",
    "\n",
    "# Extract the relevant rows with directorid entries that have name changes\n",
    "name_change_records = germanyinc_data[germanyinc_data['directorid'].isin(directors_with_name_changes)]\n",
    "name_change_records = name_change_records.sort_values(['directorid', 'datestartrole'])"
   ]
  },
  {
   "cell_type": "code",
   "execution_count": 7,
   "id": "170e98a2-bc49-4a4e-8668-7a2a9cdfa41f",
   "metadata": {},
   "outputs": [
    {
     "data": {
      "text/html": [
       "<div>\n",
       "<style scoped>\n",
       "    .dataframe tbody tr th:only-of-type {\n",
       "        vertical-align: middle;\n",
       "    }\n",
       "\n",
       "    .dataframe tbody tr th {\n",
       "        vertical-align: top;\n",
       "    }\n",
       "\n",
       "    .dataframe thead th {\n",
       "        text-align: right;\n",
       "    }\n",
       "</style>\n",
       "<table border=\"1\" class=\"dataframe\">\n",
       "  <thead>\n",
       "    <tr style=\"text-align: right;\">\n",
       "      <th></th>\n",
       "      <th>companyid</th>\n",
       "      <th>directorid</th>\n",
       "      <th>directorname</th>\n",
       "      <th>companyname</th>\n",
       "      <th>rolename</th>\n",
       "      <th>datestartrole</th>\n",
       "      <th>dateendrole</th>\n",
       "      <th>seniority</th>\n",
       "    </tr>\n",
       "  </thead>\n",
       "  <tbody>\n",
       "    <tr>\n",
       "      <th>73</th>\n",
       "      <td>3693.0</td>\n",
       "      <td>327007.0</td>\n",
       "      <td>Doctor Wolfgang Plischke</td>\n",
       "      <td>BAYER AG</td>\n",
       "      <td>Division President</td>\n",
       "      <td>2002-01-01</td>\n",
       "      <td>2003-10-01</td>\n",
       "      <td>Senior Manager</td>\n",
       "    </tr>\n",
       "    <tr>\n",
       "      <th>42</th>\n",
       "      <td>3693.0</td>\n",
       "      <td>327007.0</td>\n",
       "      <td>Professor Doctor Wolfgang Plischke</td>\n",
       "      <td>BAYER AG</td>\n",
       "      <td>Board Member - Innovation/Technology/Environment</td>\n",
       "      <td>2006-03-01</td>\n",
       "      <td>2014-04-29</td>\n",
       "      <td>Executive Director</td>\n",
       "    </tr>\n",
       "    <tr>\n",
       "      <th>322</th>\n",
       "      <td>3693.0</td>\n",
       "      <td>327007.0</td>\n",
       "      <td>Professor Doctor Wolfgang Plischke</td>\n",
       "      <td>BAYER AG</td>\n",
       "      <td>Independent Board Member</td>\n",
       "      <td>2016-04-30</td>\n",
       "      <td>2021-04-27</td>\n",
       "      <td>Supervisory Director</td>\n",
       "    </tr>\n",
       "    <tr>\n",
       "      <th>3056</th>\n",
       "      <td>932942.0</td>\n",
       "      <td>2263987.0</td>\n",
       "      <td>Jürgen Böttcher</td>\n",
       "      <td>CROPENERGIES AG</td>\n",
       "      <td>Technical Director</td>\n",
       "      <td>2012-01-01</td>\n",
       "      <td>2020-05-01</td>\n",
       "      <td>Senior Manager</td>\n",
       "    </tr>\n",
       "    <tr>\n",
       "      <th>3050</th>\n",
       "      <td>932942.0</td>\n",
       "      <td>2263987.0</td>\n",
       "      <td>JÃ¼rgen BÃ¶ttcher</td>\n",
       "      <td>CROPENERGIES AG</td>\n",
       "      <td>Chief Technical Officer</td>\n",
       "      <td>2020-05-01</td>\n",
       "      <td>None</td>\n",
       "      <td>Executive Director</td>\n",
       "    </tr>\n",
       "  </tbody>\n",
       "</table>\n",
       "</div>"
      ],
      "text/plain": [
       "      companyid  directorid                        directorname  \\\n",
       "73       3693.0    327007.0            Doctor Wolfgang Plischke   \n",
       "42       3693.0    327007.0  Professor Doctor Wolfgang Plischke   \n",
       "322      3693.0    327007.0  Professor Doctor Wolfgang Plischke   \n",
       "3056   932942.0   2263987.0                     Jürgen Böttcher   \n",
       "3050   932942.0   2263987.0                   JÃ¼rgen BÃ¶ttcher   \n",
       "\n",
       "          companyname                                          rolename  \\\n",
       "73           BAYER AG                                Division President   \n",
       "42           BAYER AG  Board Member - Innovation/Technology/Environment   \n",
       "322          BAYER AG                          Independent Board Member   \n",
       "3056  CROPENERGIES AG                                Technical Director   \n",
       "3050  CROPENERGIES AG                           Chief Technical Officer   \n",
       "\n",
       "     datestartrole dateendrole             seniority  \n",
       "73      2002-01-01  2003-10-01        Senior Manager  \n",
       "42      2006-03-01  2014-04-29    Executive Director  \n",
       "322     2016-04-30  2021-04-27  Supervisory Director  \n",
       "3056    2012-01-01  2020-05-01        Senior Manager  \n",
       "3050    2020-05-01        None    Executive Director  "
      ]
     },
     "execution_count": 7,
     "metadata": {},
     "output_type": "execute_result"
    }
   ],
   "source": [
    "name_change_records"
   ]
  },
  {
   "cell_type": "markdown",
   "id": "4383cbaf-4b08-4e5c-bfeb-2e0667f713e9",
   "metadata": {},
   "source": [
    "Based on our data from May, there were only two people who had different names associated with their ID. In the case of Wolfgang Plischke, there is an additional \"Professor\" title added to his name for his second and third role held at Bayer AG from 2006 to 2014 and 2016 to 2021. Some quick research shows that this is because he started working as an honorary professor at university in 2011. The record for his ongoing position at the time was changed to reflect the update. This means that for WRDS data, the name change can also have occurred within the time that the role was held, not necessarily beforehand.\n",
    "\n",
    "The second case is an encoder error."
   ]
  }
 ],
 "metadata": {
  "kernelspec": {
   "display_name": "Python 3 (ipykernel)",
   "language": "python",
   "name": "python3"
  },
  "language_info": {
   "codemirror_mode": {
    "name": "ipython",
    "version": 3
   },
   "file_extension": ".py",
   "mimetype": "text/x-python",
   "name": "python",
   "nbconvert_exporter": "python",
   "pygments_lexer": "ipython3",
   "version": "3.9.5"
  }
 },
 "nbformat": 4,
 "nbformat_minor": 5
}
